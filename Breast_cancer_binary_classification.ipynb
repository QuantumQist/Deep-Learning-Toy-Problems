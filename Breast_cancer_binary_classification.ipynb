{
  "nbformat": 4,
  "nbformat_minor": 0,
  "metadata": {
    "colab": {
      "provenance": []
    },
    "kernelspec": {
      "name": "python3",
      "display_name": "Python 3"
    },
    "language_info": {
      "name": "python"
    },
    "widgets": {
      "application/vnd.jupyter.widget-state+json": {
        "3ee21e4446694ad587b7e9029e906ab4": {
          "model_module": "@jupyter-widgets/controls",
          "model_name": "HBoxModel",
          "model_module_version": "1.5.0",
          "state": {
            "_dom_classes": [],
            "_model_module": "@jupyter-widgets/controls",
            "_model_module_version": "1.5.0",
            "_model_name": "HBoxModel",
            "_view_count": null,
            "_view_module": "@jupyter-widgets/controls",
            "_view_module_version": "1.5.0",
            "_view_name": "HBoxView",
            "box_style": "",
            "children": [
              "IPY_MODEL_15ccfe7cfac6446f99db6efc444e44cc",
              "IPY_MODEL_92c6737e6cdf41cab93101a7a5e151db",
              "IPY_MODEL_01279e29f27c47d6bd602d654ba4393b"
            ],
            "layout": "IPY_MODEL_998a69fdcf3c460ca48d6f1e7456add7"
          }
        },
        "15ccfe7cfac6446f99db6efc444e44cc": {
          "model_module": "@jupyter-widgets/controls",
          "model_name": "HTMLModel",
          "model_module_version": "1.5.0",
          "state": {
            "_dom_classes": [],
            "_model_module": "@jupyter-widgets/controls",
            "_model_module_version": "1.5.0",
            "_model_name": "HTMLModel",
            "_view_count": null,
            "_view_module": "@jupyter-widgets/controls",
            "_view_module_version": "1.5.0",
            "_view_name": "HTMLView",
            "description": "",
            "description_tooltip": null,
            "layout": "IPY_MODEL_197c44fa47634a2eaafa5d001809fc96",
            "placeholder": "​",
            "style": "IPY_MODEL_0bb83f08ae354ef5af840e3a33679533",
            "value": "100%"
          }
        },
        "92c6737e6cdf41cab93101a7a5e151db": {
          "model_module": "@jupyter-widgets/controls",
          "model_name": "FloatProgressModel",
          "model_module_version": "1.5.0",
          "state": {
            "_dom_classes": [],
            "_model_module": "@jupyter-widgets/controls",
            "_model_module_version": "1.5.0",
            "_model_name": "FloatProgressModel",
            "_view_count": null,
            "_view_module": "@jupyter-widgets/controls",
            "_view_module_version": "1.5.0",
            "_view_name": "ProgressView",
            "bar_style": "success",
            "description": "",
            "description_tooltip": null,
            "layout": "IPY_MODEL_1b70a987e00f472ca5e9466c7097838c",
            "max": 500,
            "min": 0,
            "orientation": "horizontal",
            "style": "IPY_MODEL_152b1768fb2c4e26a07818ecd17bf875",
            "value": 500
          }
        },
        "01279e29f27c47d6bd602d654ba4393b": {
          "model_module": "@jupyter-widgets/controls",
          "model_name": "HTMLModel",
          "model_module_version": "1.5.0",
          "state": {
            "_dom_classes": [],
            "_model_module": "@jupyter-widgets/controls",
            "_model_module_version": "1.5.0",
            "_model_name": "HTMLModel",
            "_view_count": null,
            "_view_module": "@jupyter-widgets/controls",
            "_view_module_version": "1.5.0",
            "_view_name": "HTMLView",
            "description": "",
            "description_tooltip": null,
            "layout": "IPY_MODEL_0ebecf55284446ff9c9076fc78f12caa",
            "placeholder": "​",
            "style": "IPY_MODEL_61e2f4eaccd44d1ea0fb79ece3f03bba",
            "value": " 500/500 [00:00&lt;00:00, 1277.97it/s]"
          }
        },
        "998a69fdcf3c460ca48d6f1e7456add7": {
          "model_module": "@jupyter-widgets/base",
          "model_name": "LayoutModel",
          "model_module_version": "1.2.0",
          "state": {
            "_model_module": "@jupyter-widgets/base",
            "_model_module_version": "1.2.0",
            "_model_name": "LayoutModel",
            "_view_count": null,
            "_view_module": "@jupyter-widgets/base",
            "_view_module_version": "1.2.0",
            "_view_name": "LayoutView",
            "align_content": null,
            "align_items": null,
            "align_self": null,
            "border": null,
            "bottom": null,
            "display": null,
            "flex": null,
            "flex_flow": null,
            "grid_area": null,
            "grid_auto_columns": null,
            "grid_auto_flow": null,
            "grid_auto_rows": null,
            "grid_column": null,
            "grid_gap": null,
            "grid_row": null,
            "grid_template_areas": null,
            "grid_template_columns": null,
            "grid_template_rows": null,
            "height": null,
            "justify_content": null,
            "justify_items": null,
            "left": null,
            "margin": null,
            "max_height": null,
            "max_width": null,
            "min_height": null,
            "min_width": null,
            "object_fit": null,
            "object_position": null,
            "order": null,
            "overflow": null,
            "overflow_x": null,
            "overflow_y": null,
            "padding": null,
            "right": null,
            "top": null,
            "visibility": null,
            "width": null
          }
        },
        "197c44fa47634a2eaafa5d001809fc96": {
          "model_module": "@jupyter-widgets/base",
          "model_name": "LayoutModel",
          "model_module_version": "1.2.0",
          "state": {
            "_model_module": "@jupyter-widgets/base",
            "_model_module_version": "1.2.0",
            "_model_name": "LayoutModel",
            "_view_count": null,
            "_view_module": "@jupyter-widgets/base",
            "_view_module_version": "1.2.0",
            "_view_name": "LayoutView",
            "align_content": null,
            "align_items": null,
            "align_self": null,
            "border": null,
            "bottom": null,
            "display": null,
            "flex": null,
            "flex_flow": null,
            "grid_area": null,
            "grid_auto_columns": null,
            "grid_auto_flow": null,
            "grid_auto_rows": null,
            "grid_column": null,
            "grid_gap": null,
            "grid_row": null,
            "grid_template_areas": null,
            "grid_template_columns": null,
            "grid_template_rows": null,
            "height": null,
            "justify_content": null,
            "justify_items": null,
            "left": null,
            "margin": null,
            "max_height": null,
            "max_width": null,
            "min_height": null,
            "min_width": null,
            "object_fit": null,
            "object_position": null,
            "order": null,
            "overflow": null,
            "overflow_x": null,
            "overflow_y": null,
            "padding": null,
            "right": null,
            "top": null,
            "visibility": null,
            "width": null
          }
        },
        "0bb83f08ae354ef5af840e3a33679533": {
          "model_module": "@jupyter-widgets/controls",
          "model_name": "DescriptionStyleModel",
          "model_module_version": "1.5.0",
          "state": {
            "_model_module": "@jupyter-widgets/controls",
            "_model_module_version": "1.5.0",
            "_model_name": "DescriptionStyleModel",
            "_view_count": null,
            "_view_module": "@jupyter-widgets/base",
            "_view_module_version": "1.2.0",
            "_view_name": "StyleView",
            "description_width": ""
          }
        },
        "1b70a987e00f472ca5e9466c7097838c": {
          "model_module": "@jupyter-widgets/base",
          "model_name": "LayoutModel",
          "model_module_version": "1.2.0",
          "state": {
            "_model_module": "@jupyter-widgets/base",
            "_model_module_version": "1.2.0",
            "_model_name": "LayoutModel",
            "_view_count": null,
            "_view_module": "@jupyter-widgets/base",
            "_view_module_version": "1.2.0",
            "_view_name": "LayoutView",
            "align_content": null,
            "align_items": null,
            "align_self": null,
            "border": null,
            "bottom": null,
            "display": null,
            "flex": null,
            "flex_flow": null,
            "grid_area": null,
            "grid_auto_columns": null,
            "grid_auto_flow": null,
            "grid_auto_rows": null,
            "grid_column": null,
            "grid_gap": null,
            "grid_row": null,
            "grid_template_areas": null,
            "grid_template_columns": null,
            "grid_template_rows": null,
            "height": null,
            "justify_content": null,
            "justify_items": null,
            "left": null,
            "margin": null,
            "max_height": null,
            "max_width": null,
            "min_height": null,
            "min_width": null,
            "object_fit": null,
            "object_position": null,
            "order": null,
            "overflow": null,
            "overflow_x": null,
            "overflow_y": null,
            "padding": null,
            "right": null,
            "top": null,
            "visibility": null,
            "width": null
          }
        },
        "152b1768fb2c4e26a07818ecd17bf875": {
          "model_module": "@jupyter-widgets/controls",
          "model_name": "ProgressStyleModel",
          "model_module_version": "1.5.0",
          "state": {
            "_model_module": "@jupyter-widgets/controls",
            "_model_module_version": "1.5.0",
            "_model_name": "ProgressStyleModel",
            "_view_count": null,
            "_view_module": "@jupyter-widgets/base",
            "_view_module_version": "1.2.0",
            "_view_name": "StyleView",
            "bar_color": null,
            "description_width": ""
          }
        },
        "0ebecf55284446ff9c9076fc78f12caa": {
          "model_module": "@jupyter-widgets/base",
          "model_name": "LayoutModel",
          "model_module_version": "1.2.0",
          "state": {
            "_model_module": "@jupyter-widgets/base",
            "_model_module_version": "1.2.0",
            "_model_name": "LayoutModel",
            "_view_count": null,
            "_view_module": "@jupyter-widgets/base",
            "_view_module_version": "1.2.0",
            "_view_name": "LayoutView",
            "align_content": null,
            "align_items": null,
            "align_self": null,
            "border": null,
            "bottom": null,
            "display": null,
            "flex": null,
            "flex_flow": null,
            "grid_area": null,
            "grid_auto_columns": null,
            "grid_auto_flow": null,
            "grid_auto_rows": null,
            "grid_column": null,
            "grid_gap": null,
            "grid_row": null,
            "grid_template_areas": null,
            "grid_template_columns": null,
            "grid_template_rows": null,
            "height": null,
            "justify_content": null,
            "justify_items": null,
            "left": null,
            "margin": null,
            "max_height": null,
            "max_width": null,
            "min_height": null,
            "min_width": null,
            "object_fit": null,
            "object_position": null,
            "order": null,
            "overflow": null,
            "overflow_x": null,
            "overflow_y": null,
            "padding": null,
            "right": null,
            "top": null,
            "visibility": null,
            "width": null
          }
        },
        "61e2f4eaccd44d1ea0fb79ece3f03bba": {
          "model_module": "@jupyter-widgets/controls",
          "model_name": "DescriptionStyleModel",
          "model_module_version": "1.5.0",
          "state": {
            "_model_module": "@jupyter-widgets/controls",
            "_model_module_version": "1.5.0",
            "_model_name": "DescriptionStyleModel",
            "_view_count": null,
            "_view_module": "@jupyter-widgets/base",
            "_view_module_version": "1.2.0",
            "_view_name": "StyleView",
            "description_width": ""
          }
        }
      }
    }
  },
  "cells": [
    {
      "cell_type": "markdown",
      "source": [
        "# Breast cancer dataset for binary classification\n",
        "\n",
        "We will consider the UCI ML Breast Cancer Wisconsin dataset\n",
        "https://scikit-learn.org/stable/modules/generated/sklearn.datasets.load_breast_cancer.html#sklearn.datasets.load_breast_cancer\n",
        "\n",
        "We have 569 samples: 212 malignant cases + 357 benign cases.\n",
        "Let's import the set and get some information about it.\n"
      ],
      "metadata": {
        "id": "W-yfvig2jOQY"
      }
    },
    {
      "cell_type": "code",
      "source": [
        "import torch\n",
        "from torch import nn\n",
        "import sklearn.datasets\n",
        "import matplotlib.pyplot as plt\n",
        "import random\n",
        "import numpy as np\n",
        "from sklearn.model_selection import train_test_split\n",
        "from tqdm.auto import tqdm\n",
        "\n",
        "# Setup device agnostic code\n",
        "device = \"cuda\" if torch.cuda.is_available() else \"cpu\"\n",
        "print(f\"Device: {device}\")"
      ],
      "metadata": {
        "colab": {
          "base_uri": "https://localhost:8080/"
        },
        "id": "AKgJdrDFmv8q",
        "outputId": "67b2c4f1-2e64-46b8-fc36-aa7c5c9bcc26"
      },
      "execution_count": 1,
      "outputs": [
        {
          "output_type": "stream",
          "name": "stdout",
          "text": [
            "Device: cpu\n"
          ]
        }
      ]
    },
    {
      "cell_type": "markdown",
      "source": [
        "## 1. Import data"
      ],
      "metadata": {
        "id": "8Uz-k667pX3t"
      }
    },
    {
      "cell_type": "code",
      "execution_count": 2,
      "metadata": {
        "colab": {
          "base_uri": "https://localhost:8080/"
        },
        "id": "rt_AD0iDiBnk",
        "outputId": "607f44b8-35df-4a4f-9456-d598fe6a9340"
      },
      "outputs": [
        {
          "output_type": "stream",
          "name": "stdout",
          "text": [
            "Number of features: 30\n",
            "Feature names:\n",
            "['mean radius' 'mean texture' 'mean perimeter' 'mean area'\n",
            " 'mean smoothness' 'mean compactness' 'mean concavity'\n",
            " 'mean concave points' 'mean symmetry' 'mean fractal dimension'\n",
            " 'radius error' 'texture error' 'perimeter error' 'area error'\n",
            " 'smoothness error' 'compactness error' 'concavity error'\n",
            " 'concave points error' 'symmetry error' 'fractal dimension error'\n",
            " 'worst radius' 'worst texture' 'worst perimeter' 'worst area'\n",
            " 'worst smoothness' 'worst compactness' 'worst concavity'\n",
            " 'worst concave points' 'worst symmetry' 'worst fractal dimension']\n",
            "Number of targets: 2\n",
            "Target names: ['malignant' 'benign']\n"
          ]
        }
      ],
      "source": [
        "dataset = sklearn.datasets.load_breast_cancer()\n",
        "feature_names, target_names = dataset.feature_names, dataset.target_names\n",
        "print(f\"Number of features: {len(feature_names)}\")\n",
        "print(f\"Feature names:\\n{feature_names}\")\n",
        "print(f\"Number of targets: {len(target_names)}\")\n",
        "print(f\"Target names: {target_names}\")"
      ]
    },
    {
      "cell_type": "code",
      "source": [
        "# Get data\n",
        "X, y = dataset.data, dataset.target\n",
        "print(f\"Shape of feature set: {X.shape}\\nShape of labels set: {y.shape}\")"
      ],
      "metadata": {
        "colab": {
          "base_uri": "https://localhost:8080/"
        },
        "id": "GOZZl3YfkOVs",
        "outputId": "0853bd82-340d-4bec-ee1a-b874189fe890"
      },
      "execution_count": 3,
      "outputs": [
        {
          "output_type": "stream",
          "name": "stdout",
          "text": [
            "Shape of feature set: (569, 30)\n",
            "Shape of labels set: (569,)\n"
          ]
        }
      ]
    },
    {
      "cell_type": "code",
      "source": [
        "# Let's see how an example feature looks like\n",
        "print(f\"Example feature:\\n{X[42]}\\nExample label: {y[42]}\")\n",
        "print(f\"Datatype of the feature: {X[42].dtype} | Label: {y[42].dtype}\")"
      ],
      "metadata": {
        "colab": {
          "base_uri": "https://localhost:8080/"
        },
        "id": "lywP9N9LiI5k",
        "outputId": "b38ce1a1-4480-49c6-d7cd-eb7e2aee24a6"
      },
      "execution_count": 4,
      "outputs": [
        {
          "output_type": "stream",
          "name": "stdout",
          "text": [
            "Example feature:\n",
            "[1.907e+01 2.481e+01 1.283e+02 1.104e+03 9.081e-02 2.190e-01 2.107e-01\n",
            " 9.961e-02 2.310e-01 6.343e-02 9.811e-01 1.666e+00 8.830e+00 1.049e+02\n",
            " 6.548e-03 1.006e-01 9.723e-02 2.638e-02 5.333e-02 7.646e-03 2.409e+01\n",
            " 3.317e+01 1.774e+02 1.651e+03 1.247e-01 7.444e-01 7.242e-01 2.493e-01\n",
            " 4.670e-01 1.038e-01]\n",
            "Example label: 0\n",
            "Datatype of the feature: float64 | Label: int64\n"
          ]
        }
      ]
    },
    {
      "cell_type": "markdown",
      "source": [
        "Let's convert it to `torch.Tensor`, convert it to float32 type (default for PyTorch)."
      ],
      "metadata": {
        "id": "9iX9A1_kiJ2-"
      }
    },
    {
      "cell_type": "code",
      "source": [
        "if X.dtype != \"torch.float32\":\n",
        "  X = torch.tensor(X, dtype = torch.float )\n",
        "if y.dtype != 'torch.float32':\n",
        "  y = torch.tensor(y, dtype = torch.float)\n",
        "\n",
        "\n",
        "print(f\"Datatype: X - {X.dtype}, y - {y.dtype}\")"
      ],
      "metadata": {
        "colab": {
          "base_uri": "https://localhost:8080/"
        },
        "id": "PmW40XtMimhY",
        "outputId": "692bf008-1dd3-4b41-e102-c169cf18d21b"
      },
      "execution_count": 5,
      "outputs": [
        {
          "output_type": "stream",
          "name": "stdout",
          "text": [
            "Datatype: X - torch.float32, y - torch.float32\n"
          ]
        }
      ]
    },
    {
      "cell_type": "markdown",
      "source": [
        "### 1.1. Divide data into training and testing sets\n"
      ],
      "metadata": {
        "id": "8CNweYhWs09c"
      }
    },
    {
      "cell_type": "code",
      "source": [
        "X_train, X_test, y_train, y_test = train_test_split(X, y, test_size=0.2)\n",
        "print(f\"Shape of training feature tensor: {X_train.shape} | label tensor: {y_train.shape}\")\n",
        "print(f\"Shape of testing feature tensor: {X_test.shape} | label tensor: {y_test.shape}\")"
      ],
      "metadata": {
        "colab": {
          "base_uri": "https://localhost:8080/"
        },
        "id": "SDBnQnBwtPzU",
        "outputId": "c168d811-16a5-4007-e860-f372bffd39a3"
      },
      "execution_count": 7,
      "outputs": [
        {
          "output_type": "stream",
          "name": "stdout",
          "text": [
            "Shape of training feature tensor: torch.Size([455, 30]) | label tensor: torch.Size([455])\n",
            "Shape of testing feature tensor: torch.Size([114, 30]) | label tensor: torch.Size([114])\n"
          ]
        }
      ]
    },
    {
      "cell_type": "markdown",
      "source": [
        "## 2. Construct a simple model.\n",
        "\n",
        "* Linear layer | 30 -> 1\n",
        "* Sigmoid activation is included in `nn.BCEWithLogitsLoss()`"
      ],
      "metadata": {
        "id": "J2yNfveQmnBB"
      }
    },
    {
      "cell_type": "code",
      "source": [
        "model_0 = nn.Linear(in_features = 30, out_features = 1)"
      ],
      "metadata": {
        "id": "zGaBvmfvm_Tv"
      },
      "execution_count": 15,
      "outputs": []
    },
    {
      "cell_type": "code",
      "source": [
        "# Dummy forward pass\n",
        "model_0(X_train[37])"
      ],
      "metadata": {
        "colab": {
          "base_uri": "https://localhost:8080/"
        },
        "id": "_WCIXDnMqesc",
        "outputId": "e989762a-8e51-410d-f371-8097cf3d3201"
      },
      "execution_count": 16,
      "outputs": [
        {
          "output_type": "execute_result",
          "data": {
            "text/plain": [
              "tensor([-31.5214], grad_fn=<ViewBackward0>)"
            ]
          },
          "metadata": {},
          "execution_count": 16
        }
      ]
    },
    {
      "cell_type": "markdown",
      "source": [
        "### 2.1. Select the loss function and optimizer"
      ],
      "metadata": {
        "id": "obRBteu-sOaQ"
      }
    },
    {
      "cell_type": "code",
      "source": [
        "loss_fn = nn.BCEWithLogitsLoss()\n",
        "optimizer = torch.optim.SGD(params = model_0.parameters(),\n",
        "                            lr = 0.01)"
      ],
      "metadata": {
        "id": "VIlWHYOSqrZJ"
      },
      "execution_count": 17,
      "outputs": []
    },
    {
      "cell_type": "markdown",
      "source": [
        "## 3. Train the model"
      ],
      "metadata": {
        "id": "yuz78RhzrnTs"
      }
    },
    {
      "cell_type": "code",
      "source": [
        "# Setup lists keeping track of the loss\n",
        "train_loss_list0, test_loss_list0 = [], []\n",
        "\n",
        "# Set number of epochs\n",
        "NUM_EPOCHS = 500\n",
        "\n",
        "# Training loop\n",
        "for epoch in tqdm(range(NUM_EPOCHS)):\n",
        "  ### Training\n",
        "  # Put model in training mode\n",
        "  model_0.train()\n",
        "\n",
        "  # Forward pass\n",
        "  y_logits = model_0(X_train).squeeze()\n",
        "\n",
        "  # Calculate the loss\n",
        "  loss = loss_fn(y_logits, y_train)\n",
        "  train_loss_list0.append(loss.item())\n",
        "\n",
        "  # Zero gradients\n",
        "  optimizer.zero_grad()\n",
        "\n",
        "  # Backpropagation\n",
        "  loss.backward()\n",
        "\n",
        "  # Optimizer step\n",
        "  optimizer.step()\n",
        "\n",
        "  ### Testing\n",
        "  model_0.eval()\n",
        "  with torch.inference_mode():\n",
        "    # Forward pass\n",
        "    y_test_logits = model_0(X_test).squeeze()\n",
        "\n",
        "    # Calculate the loss\n",
        "    test_loss = loss_fn(y_test_logits, y_test)\n",
        "    test_loss_list0.append( test_loss.item() )\n",
        "\n",
        "plt.figure(figsize=(8,6))\n",
        "plt.plot( range(NUM_EPOCHS), train_loss_list0, label=\"Train loss\" )\n",
        "plt.plot( range(NUM_EPOCHS), test_loss_list0, label=\"Test loss\" )\n",
        "plt.grid()\n",
        "plt.legend()"
      ],
      "metadata": {
        "colab": {
          "base_uri": "https://localhost:8080/",
          "height": 571,
          "referenced_widgets": [
            "3ee21e4446694ad587b7e9029e906ab4",
            "15ccfe7cfac6446f99db6efc444e44cc",
            "92c6737e6cdf41cab93101a7a5e151db",
            "01279e29f27c47d6bd602d654ba4393b",
            "998a69fdcf3c460ca48d6f1e7456add7",
            "197c44fa47634a2eaafa5d001809fc96",
            "0bb83f08ae354ef5af840e3a33679533",
            "1b70a987e00f472ca5e9466c7097838c",
            "152b1768fb2c4e26a07818ecd17bf875",
            "0ebecf55284446ff9c9076fc78f12caa",
            "61e2f4eaccd44d1ea0fb79ece3f03bba"
          ]
        },
        "id": "UR_OJwF_rowx",
        "outputId": "6fbfcc38-6009-435b-f099-1ab15b198473"
      },
      "execution_count": 18,
      "outputs": [
        {
          "output_type": "display_data",
          "data": {
            "text/plain": [
              "  0%|          | 0/500 [00:00<?, ?it/s]"
            ],
            "application/vnd.jupyter.widget-view+json": {
              "version_major": 2,
              "version_minor": 0,
              "model_id": "3ee21e4446694ad587b7e9029e906ab4"
            }
          },
          "metadata": {}
        },
        {
          "output_type": "execute_result",
          "data": {
            "text/plain": [
              "<matplotlib.legend.Legend at 0x7d9fd7157ac0>"
            ]
          },
          "metadata": {},
          "execution_count": 18
        },
        {
          "output_type": "display_data",
          "data": {
            "text/plain": [
              "<Figure size 800x600 with 1 Axes>"
            ],
            "image/png": "[encoded data removed]"
          },
          "metadata": {}
        }
      ]
    },
    {
      "cell_type": "markdown",
      "source": [
        "## 4. Get the predictions made on testing data"
      ],
      "metadata": {
        "id": "SC3OFOs4ulSQ"
      }
    },
    {
      "cell_type": "code",
      "source": [
        "random_indexes = random.sample( range(len(y_test)), k=5 )\n",
        "for idx in random_indexes:\n",
        "  with torch.inference_mode():\n",
        "    prediction_idx = torch.round( torch.sigmoid( model_0(X_test[idx]) ) ).int()\n",
        "\n",
        "  prediction_str = target_names[ prediction_idx ]\n",
        "\n",
        "  true_prediction = target_names[ y_test[idx].int() ]\n",
        "  print(f\"------------\")\n",
        "  print(f\"True diagnosis: {true_prediction}\")\n",
        "  print(f\"  AI diagnosis: {prediction_str}\")\n"
      ],
      "metadata": {
        "colab": {
          "base_uri": "https://localhost:8080/"
        },
        "id": "nP_--lGvypkR",
        "outputId": "044e099e-f9ed-4325-db07-88dd217d2641"
      },
      "execution_count": 21,
      "outputs": [
        {
          "output_type": "stream",
          "name": "stdout",
          "text": [
            "------------\n",
            "True diagnosis: benign\n",
            "  AI diagnosis: benign\n",
            "------------\n",
            "True diagnosis: malignant\n",
            "  AI diagnosis: malignant\n",
            "------------\n",
            "True diagnosis: malignant\n",
            "  AI diagnosis: malignant\n",
            "------------\n",
            "True diagnosis: benign\n",
            "  AI diagnosis: benign\n",
            "------------\n",
            "True diagnosis: benign\n",
            "  AI diagnosis: benign\n"
          ]
        }
      ]
    },
    {
      "cell_type": "code",
      "source": [
        "weights = list(model_0.parameters())\n",
        "numpy_abs_weights = np.abs( weights[0][0].detach().numpy() )\n",
        "\n",
        "weight_check_list = []\n",
        "# Create list with tuples of (\"feature\", numpy_abs_weights)\n",
        "for i in range(len(numpy_abs_weights)):\n",
        "  weight_check_list.append( (feature_names[i], numpy_abs_weights[i]) )\n",
        "\n",
        "sorted_features = sorted(weight_check_list,\n",
        "                         key=lambda weight: weight[1],\n",
        "                         reverse = True)\n",
        "\n",
        "print(\"Most impactful features in diagnosis according\")\n",
        "print(\"to the trained neural network:\")\n",
        "sorted_features"
      ],
      "metadata": {
        "colab": {
          "base_uri": "https://localhost:8080/"
        },
        "id": "U-GISy4Jy4dR",
        "outputId": "f6018213-3d40-4648-e4df-981691ee73eb"
      },
      "execution_count": 23,
      "outputs": [
        {
          "output_type": "stream",
          "name": "stdout",
          "text": [
            "Most impactful features in diagnosis according\n",
            "to the trained neural network:\n"
          ]
        },
        {
          "output_type": "execute_result",
          "data": {
            "text/plain": [
              "[('worst perimeter', 13.775981),\n",
              " ('mean perimeter', 13.479534),\n",
              " ('worst area', 8.608936),\n",
              " ('mean area', 6.942045),\n",
              " ('area error', 5.519744),\n",
              " ('worst texture', 4.999988),\n",
              " ('mean texture', 4.0066495),\n",
              " ('worst radius', 2.2721646),\n",
              " ('mean radius', 2.249187),\n",
              " ('worst concave points', 0.18645081),\n",
              " ('worst symmetry', 0.18397608),\n",
              " ('symmetry error', 0.17596203),\n",
              " ('mean smoothness', 0.16297022),\n",
              " ('texture error', 0.16166995),\n",
              " ('mean fractal dimension', 0.1498344),\n",
              " ('mean compactness', 0.14517987),\n",
              " ('worst fractal dimension', 0.13899654),\n",
              " ('worst compactness', 0.1352563),\n",
              " ('perimeter error', 0.13321872),\n",
              " ('concave points error', 0.12259657),\n",
              " ('fractal dimension error', 0.11394837),\n",
              " ('compactness error', 0.11156193),\n",
              " ('worst smoothness', 0.077313565),\n",
              " ('concavity error', 0.07730091),\n",
              " ('radius error', 0.06794576),\n",
              " ('smoothness error', 0.058466006),\n",
              " ('mean concavity', 0.047797117),\n",
              " ('worst concavity', 0.032289065),\n",
              " ('mean symmetry', 0.03136433),\n",
              " ('mean concave points', 0.028617667)]"
            ]
          },
          "metadata": {},
          "execution_count": 23
        }
      ]
    },
    {
      "cell_type": "code",
      "source": [],
      "metadata": {
        "id": "MsQLD3A83GJS"
      },
      "execution_count": null,
      "outputs": []
    }
  ]
}